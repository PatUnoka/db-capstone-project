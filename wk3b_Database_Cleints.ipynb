{
 "cells": [
  {
   "cell_type": "markdown",
   "id": "ec3fa8cd-4c55-4bde-8157-fd5337a7e85c",
   "metadata": {},
   "source": [
    "## WK3_Database Clients"
   ]
  },
  {
   "cell_type": "markdown",
   "id": "ea338692-212f-4cd7-8609-eab6c31d8865",
   "metadata": {},
   "source": [
    "### Wk3_i_Setup the Client Project"
   ]
  },
  {
   "cell_type": "code",
   "execution_count": 13,
   "id": "5613ed42-8ff7-4f06-8dc0-c76544be4c81",
   "metadata": {},
   "outputs": [
    {
     "name": "stdout",
     "output_type": "stream",
     "text": [
      "Requirement already satisfied: mysql-connector-python in c:\\users\\admin\\appdata\\local\\programs\\python\\python311\\lib\\site-packages (8.0.33)\n",
      "Requirement already satisfied: protobuf<=3.20.3,>=3.11.0 in c:\\users\\admin\\appdata\\local\\programs\\python\\python311\\lib\\site-packages (from mysql-connector-python) (3.20.3)\n"
     ]
    }
   ],
   "source": [
    "# Install  mysql-connector\n",
    "!pip install mysql-connector-python"
   ]
  },
  {
   "cell_type": "code",
   "execution_count": 22,
   "id": "4f165b0a-4d5d-4ae9-9c36-db96f548a058",
   "metadata": {},
   "outputs": [],
   "source": [
    "#import mysql-connector\n",
    "import mysql.connector as connector"
   ]
  },
  {
   "cell_type": "code",
   "execution_count": 23,
   "id": "83daeaff-243b-487e-a8d2-77d0d216a49a",
   "metadata": {},
   "outputs": [],
   "source": [
    "# Verify that a connection can be made with your database by calling the connection method from the connector class: \n",
    "connection = connector.connect(user = \"metaadmin\", password = \"capstone2023\", db = \"littlelemondb\")"
   ]
  },
  {
   "cell_type": "markdown",
   "id": "aeb9e250-891d-4aaa-bf97-86eb40298d6f",
   "metadata": {},
   "source": [
    "### wk3b_ii_Query with Joins"
   ]
  },
  {
   "cell_type": "code",
   "execution_count": 24,
   "id": "c447a86e-db96-4b3a-a661-c24195176abb",
   "metadata": {},
   "outputs": [],
   "source": [
    "#step1: create a cursor object\n",
    "# Cursor object points the Python application to the location in the MySQL database, where the required data is stored\n",
    "cursor = connection.cursor()"
   ]
  },
  {
   "cell_type": "code",
   "execution_count": 25,
   "id": "dc3209b2-ec8c-41a4-a15c-b7af801d4721",
   "metadata": {},
   "outputs": [
    {
     "name": "stdout",
     "output_type": "stream",
     "text": [
      "('bookings',)\n",
      "('contactdetails',)\n",
      "('customers',)\n",
      "('delivery',)\n",
      "('employees',)\n",
      "('menuitems',)\n",
      "('menus',)\n",
      "('orders',)\n",
      "('ordersview',)\n"
     ]
    }
   ],
   "source": [
    "#Show tables query\n",
    "show_tables_query = \"SHOW TABLES\" \n",
    "cursor.execute(show_tables_query)\n",
    "for row in cursor:\n",
    "    print(row)"
   ]
  },
  {
   "cell_type": "code",
   "execution_count": 28,
   "id": "45995d04-d1fa-43f7-9a4d-98afcb1ba0e9",
   "metadata": {},
   "outputs": [
    {
     "name": "stdout",
     "output_type": "stream",
     "text": [
      "('FullName', 'Address', 'Email', 'PhoneNumber', 'BillAmount')\n",
      "('Anna Iversen', 'Bay LaneChicago, Illinois', 'anna@yh.com', '757536375', Decimal('200'))\n",
      "('Diana Pinto', 'Sage Street, West LoopChicago, Illinois', 'diana@yh.com', '757536374', Decimal('300'))\n"
     ]
    }
   ],
   "source": [
    "#identify full name and contact details for every customer that has placed an order greater than $60 for a promotional campaign.\n",
    "customer_details_query = \"\"\"\n",
    "SELECT Customers.FullName, CONCAT(ContactDetails.Address, ContactDetails.City) AS Address, ContactDetails.Email, ContactDetails.PhoneNumber, Orders.BillAmount \n",
    "FROM Customers\n",
    "INNER JOIN ContactDetails ON Customers.CustomerID = ContactDetails.CustomerID\n",
    "INNER JOIN Orders ON Orders.CustomerID = Customers.CustomerID\n",
    "WHERE BillAmount >=60;\n",
    "\"\"\"\n",
    "\n",
    "cursor.execute(customer_details_query)\n",
    "result = cursor.fetchall()\n",
    "\n",
    "cols = cursor.column_names\n",
    "print(cols)\n",
    "for row in result:\n",
    "    print(row)"
   ]
  },
  {
   "cell_type": "code",
   "execution_count": null,
   "id": "8de2f0e8-0a52-44a7-bf57-265564ef641d",
   "metadata": {},
   "outputs": [],
   "source": []
  },
  {
   "cell_type": "code",
   "execution_count": null,
   "id": "3a205e1b-f8d4-45b1-bc63-cc4157362862",
   "metadata": {},
   "outputs": [],
   "source": []
  }
 ],
 "metadata": {
  "kernelspec": {
   "display_name": "Python 3 (ipykernel)",
   "language": "python",
   "name": "python3"
  },
  "language_info": {
   "codemirror_mode": {
    "name": "ipython",
    "version": 3
   },
   "file_extension": ".py",
   "mimetype": "text/x-python",
   "name": "python",
   "nbconvert_exporter": "python",
   "pygments_lexer": "ipython3",
   "version": "3.11.4"
  }
 },
 "nbformat": 4,
 "nbformat_minor": 5
}
